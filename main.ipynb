{
 "cells": [
  {
   "cell_type": "code",
   "execution_count": 1,
   "metadata": {},
   "outputs": [],
   "source": [
    "f = open(\"philosophy_data.csv\", \"r\").read()"
   ]
  },
  {
   "cell_type": "code",
   "execution_count": 2,
   "metadata": {},
   "outputs": [],
   "source": [
    "lines = f.split(\"\\n\")"
   ]
  },
  {
   "cell_type": "code",
   "execution_count": 3,
   "metadata": {},
   "outputs": [],
   "source": [
    "import re\n",
    "from collections import defaultdict\n",
    "from tqdm import tqdm\n",
    "\n",
    "PATTERN = r',(?=(?:[^\"]*\"[^\"]*\")*[^\"]*$)'\n",
    "\n",
    "attr_handler: dict[str, callable] = {\n",
    "    \"title\": str,\n",
    "    \"author\": str,\n",
    "    \"school\": str,\n",
    "    \"sentence_spacy\": lambda x: str(x[1:-1]),\n",
    "    \"sentence_str\":  lambda x: str(x[1:-1]),\n",
    "    \"original_publication_date\": int,\n",
    "    \"corpus_edition_date\": int,\n",
    "    \"sentence_length\": int,\n",
    "    \"sentence_lowered\": lambda x: str(x[1:-1]),\n",
    "    \"tokenized_txt\": lambda x: list(x[2:-2].replace(\"\\'\", \"\").split(\", \")),\n",
    "    \"lemmatized_str\": lambda x: str(x[1:-1])\n",
    "}\n",
    "\n",
    "def split_lines(lines):\n",
    "    headers = lines[0].split(\",\")\n",
    "    jsonl = []\n",
    "    for line in tqdm(lines[1:]):\n",
    "        split_line = re.split(PATTERN, line)\n",
    "        if len(headers) != len(split_line):\n",
    "            continue\n",
    "        jsonl.append({header: attr_handler[header](split_line[i]) for i, header in enumerate(headers)})\n",
    "    return jsonl"
   ]
  },
  {
   "cell_type": "code",
   "execution_count": 9,
   "metadata": {},
   "outputs": [
    {
     "name": "stderr",
     "output_type": "stream",
     "text": [
      "100%|██████████| 396428/396428 [00:49<00:00, 7975.81it/s] \n"
     ]
    }
   ],
   "source": [
    "di_lines = split_lines(lines)"
   ]
  },
  {
   "cell_type": "code",
   "execution_count": 14,
   "metadata": {},
   "outputs": [],
   "source": [
    "import jsonlines\n",
    "with jsonlines.open(\"./data/index.jsonl\", mode=\"w\") as writer:\n",
    "    writer.write(di_lines)"
   ]
  },
  {
   "cell_type": "code",
   "execution_count": 5,
   "metadata": {},
   "outputs": [],
   "source": [
    "import jsonlines\n",
    "examples = None\n",
    "with jsonlines.open(\"./data/index.jsonl\", mode=\"r\") as reader:\n",
    "    examples = [li for li in reader][0]"
   ]
  },
  {
   "cell_type": "code",
   "execution_count": 7,
   "metadata": {},
   "outputs": [],
   "source": [
    "from collections import defaultdict\n",
    "\n",
    "def partition(examples, key):\n",
    "    part = defaultdict(list)\n",
    "    for example in examples:\n",
    "        if key not in example:\n",
    "            continue\n",
    "        part[example[key]].append(example)\n",
    "    return part"
   ]
  },
  {
   "cell_type": "code",
   "execution_count": 8,
   "metadata": {},
   "outputs": [],
   "source": [
    "schools = partition(examples, \"school\")"
   ]
  },
  {
   "cell_type": "code",
   "execution_count": 18,
   "metadata": {},
   "outputs": [],
   "source": [
    "def group(part, k):\n",
    "    groups = []\n",
    "    for g in part:\n",
    "        print(g)\n",
    "        for i in range(len(part[g]) - k):\n",
    "            groups.append(part[g][i:i+k])\n",
    "    return groups"
   ]
  },
  {
   "cell_type": "code",
   "execution_count": 19,
   "metadata": {},
   "outputs": [
    {
     "name": "stdout",
     "output_type": "stream",
     "text": [
      "plato\n",
      "aristotle\n",
      "empiricism\n",
      "rationalism\n",
      "analytic\n",
      "continental\n",
      "phenomenology\n",
      "german_idealism\n",
      "communism\n",
      "capitalism\n",
      "stoicism\n",
      "nietzsche\n",
      "feminism\n",
      "scholasticism\n",
      "Kierkegaard\n",
      "Hobbes\n",
      "Existentialism\n",
      "Daoism\n"
     ]
    }
   ],
   "source": [
    "schools_len_k = group(schools, 5)"
   ]
  },
  {
   "cell_type": "code",
   "execution_count": 21,
   "metadata": {},
   "outputs": [
    {
     "data": {
      "text/plain": [
       "'urely you are not prosecuting anyone before the king archon as i am.the athenians do not call this a prosecution but an indictment, euthyphro..hat is this you say.someone must have indicted you, for you are not going to tell me that you have indicted someone else..ut someone else has indicted you'"
      ]
     },
     "execution_count": 21,
     "metadata": {},
     "output_type": "execute_result"
    }
   ],
   "source": [
    "\".\".join([s[\"sentence_lowered\"] for s in schools_len_k[1]])"
   ]
  },
  {
   "cell_type": "code",
   "execution_count": null,
   "metadata": {},
   "outputs": [],
   "source": [
    "Who wrote the following?\n",
    "\n",
    "By John Locke\n",
    "\n",
    "Certainly, you aren't presenting a case against someone before the King John Locke in the same manner that I am. It's important to note, John Locke, that the John Locke don't refer to this process as a prosecution but rather as an indictment. What do you mean by that? It must be the case that someone has brought charges against you, for it's hard to believe that you would be the one to accuse another. Indeed, it is the case that another has brought an indictment against you.\n",
    "\n",
    "6. Plato\n",
    "1. John Locke\n",
    "2. Socrates\n",
    "3. Aristotle\n",
    "6. Plato\n",
    "4. Sophocles\n",
    "5. Thucydides"
   ]
  }
 ],
 "metadata": {
  "kernelspec": {
   "display_name": ".venv",
   "language": "python",
   "name": "python3"
  },
  "language_info": {
   "codemirror_mode": {
    "name": "ipython",
    "version": 3
   },
   "file_extension": ".py",
   "mimetype": "text/x-python",
   "name": "python",
   "nbconvert_exporter": "python",
   "pygments_lexer": "ipython3",
   "version": "3.10.12"
  },
  "orig_nbformat": 4
 },
 "nbformat": 4,
 "nbformat_minor": 2
}
